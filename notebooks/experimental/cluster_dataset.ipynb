{
 "cells": [
  {
   "cell_type": "code",
   "execution_count": 2,
   "metadata": {},
   "outputs": [],
   "source": [
    "import sys\n",
    "sys.path.append(\"../..\")\n",
    "from utils.data_loader import DataLoader\n",
    "from pathlib import Path\n",
    "\n",
    "dl = DataLoader(Path(\"/home/wues_ni/Projects/ATOW-Prediction/data\"))\n",
    "challenge, submission, final_submission = dl.load()"
   ]
  },
  {
   "cell_type": "code",
   "execution_count": 3,
   "metadata": {},
   "outputs": [
    {
     "data": {
      "text/html": [
       "<div>\n",
       "<style scoped>\n",
       "    .dataframe tbody tr th:only-of-type {\n",
       "        vertical-align: middle;\n",
       "    }\n",
       "\n",
       "    .dataframe tbody tr th {\n",
       "        vertical-align: top;\n",
       "    }\n",
       "\n",
       "    .dataframe thead th {\n",
       "        text-align: right;\n",
       "    }\n",
       "</style>\n",
       "<table border=\"1\" class=\"dataframe\">\n",
       "  <thead>\n",
       "    <tr style=\"text-align: right;\">\n",
       "      <th></th>\n",
       "      <th>flight_id</th>\n",
       "      <th>date</th>\n",
       "      <th>callsign</th>\n",
       "      <th>adep</th>\n",
       "      <th>name_adep</th>\n",
       "      <th>country_code_adep</th>\n",
       "      <th>ades</th>\n",
       "      <th>name_ades</th>\n",
       "      <th>country_code_ades</th>\n",
       "      <th>actual_offblock_time</th>\n",
       "      <th>arrival_time</th>\n",
       "      <th>aircraft_type</th>\n",
       "      <th>wtc</th>\n",
       "      <th>airline</th>\n",
       "      <th>flight_duration</th>\n",
       "      <th>taxiout_time</th>\n",
       "      <th>flown_distance</th>\n",
       "      <th>tow</th>\n",
       "    </tr>\n",
       "  </thead>\n",
       "  <tbody>\n",
       "    <tr>\n",
       "      <th>78003</th>\n",
       "      <td>253526017</td>\n",
       "      <td>2022-07-17</td>\n",
       "      <td>c1ab603969a00486bea8dc91eb652c9b</td>\n",
       "      <td>EDDL</td>\n",
       "      <td>Dusseldorf</td>\n",
       "      <td>DE</td>\n",
       "      <td>LTFJ</td>\n",
       "      <td>Istanbul Sabiha Gokcen</td>\n",
       "      <td>TR</td>\n",
       "      <td>2022-07-17T15:40:00Z</td>\n",
       "      <td>2022-07-17T18:24:00Z</td>\n",
       "      <td>B738</td>\n",
       "      <td>M</td>\n",
       "      <td>e5b13da1511ff741c34c94cfd5575c55</td>\n",
       "      <td>153</td>\n",
       "      <td>11</td>\n",
       "      <td>1199</td>\n",
       "      <td>NaN</td>\n",
       "    </tr>\n",
       "  </tbody>\n",
       "</table>\n",
       "</div>"
      ],
      "text/plain": [
       "       flight_id        date                          callsign  adep  \\\n",
       "78003  253526017  2022-07-17  c1ab603969a00486bea8dc91eb652c9b  EDDL   \n",
       "\n",
       "        name_adep country_code_adep  ades               name_ades  \\\n",
       "78003  Dusseldorf                DE  LTFJ  Istanbul Sabiha Gokcen   \n",
       "\n",
       "      country_code_ades  actual_offblock_time          arrival_time  \\\n",
       "78003                TR  2022-07-17T15:40:00Z  2022-07-17T18:24:00Z   \n",
       "\n",
       "      aircraft_type wtc                           airline  flight_duration  \\\n",
       "78003          B738   M  e5b13da1511ff741c34c94cfd5575c55              153   \n",
       "\n",
       "       taxiout_time  flown_distance  tow  \n",
       "78003            11            1199  NaN  "
      ]
     },
     "execution_count": 3,
     "metadata": {},
     "output_type": "execute_result"
    }
   ],
   "source": [
    "final_submission.df[final_submission.df.airline == \"e5b13da1511ff741c34c94cfd5575c55\"]\n"
   ]
  },
  {
   "cell_type": "code",
   "execution_count": 4,
   "metadata": {},
   "outputs": [
    {
     "data": {
      "text/plain": [
       "369013"
      ]
     },
     "execution_count": 4,
     "metadata": {},
     "output_type": "execute_result"
    }
   ],
   "source": [
    "len(challenge.df)"
   ]
  },
  {
   "cell_type": "code",
   "execution_count": 5,
   "metadata": {},
   "outputs": [
    {
     "data": {
      "text/html": [
       "<div>\n",
       "<style scoped>\n",
       "    .dataframe tbody tr th:only-of-type {\n",
       "        vertical-align: middle;\n",
       "    }\n",
       "\n",
       "    .dataframe tbody tr th {\n",
       "        vertical-align: top;\n",
       "    }\n",
       "\n",
       "    .dataframe thead th {\n",
       "        text-align: right;\n",
       "    }\n",
       "</style>\n",
       "<table border=\"1\" class=\"dataframe\">\n",
       "  <thead>\n",
       "    <tr style=\"text-align: right;\">\n",
       "      <th></th>\n",
       "      <th>flight_id</th>\n",
       "      <th>date</th>\n",
       "      <th>callsign</th>\n",
       "      <th>adep</th>\n",
       "      <th>name_adep</th>\n",
       "      <th>country_code_adep</th>\n",
       "      <th>ades</th>\n",
       "      <th>name_ades</th>\n",
       "      <th>country_code_ades</th>\n",
       "      <th>actual_offblock_time</th>\n",
       "      <th>arrival_time</th>\n",
       "      <th>aircraft_type</th>\n",
       "      <th>wtc</th>\n",
       "      <th>airline</th>\n",
       "      <th>flight_duration</th>\n",
       "      <th>taxiout_time</th>\n",
       "      <th>flown_distance</th>\n",
       "      <th>tow</th>\n",
       "    </tr>\n",
       "  </thead>\n",
       "  <tbody>\n",
       "  </tbody>\n",
       "</table>\n",
       "</div>"
      ],
      "text/plain": [
       "Empty DataFrame\n",
       "Columns: [flight_id, date, callsign, adep, name_adep, country_code_adep, ades, name_ades, country_code_ades, actual_offblock_time, arrival_time, aircraft_type, wtc, airline, flight_duration, taxiout_time, flown_distance, tow]\n",
       "Index: []"
      ]
     },
     "execution_count": 5,
     "metadata": {},
     "output_type": "execute_result"
    }
   ],
   "source": [
    "final_submission.df[final_submission.df.aircraft_type == \"C56X\"]"
   ]
  },
  {
   "cell_type": "code",
   "execution_count": 15,
   "metadata": {},
   "outputs": [
    {
     "data": {
      "text/plain": [
       "set()"
      ]
     },
     "execution_count": 15,
     "metadata": {},
     "output_type": "execute_result"
    }
   ],
   "source": [
    "set(challenge.df[\"wtc\"].unique()) - set(final_submission.df[\"wtc\"].unique())"
   ]
  },
  {
   "cell_type": "code",
   "execution_count": 14,
   "metadata": {},
   "outputs": [
    {
     "data": {
      "text/html": [
       "<div>\n",
       "<style scoped>\n",
       "    .dataframe tbody tr th:only-of-type {\n",
       "        vertical-align: middle;\n",
       "    }\n",
       "\n",
       "    .dataframe tbody tr th {\n",
       "        vertical-align: top;\n",
       "    }\n",
       "\n",
       "    .dataframe thead th {\n",
       "        text-align: right;\n",
       "    }\n",
       "</style>\n",
       "<table border=\"1\" class=\"dataframe\">\n",
       "  <thead>\n",
       "    <tr style=\"text-align: right;\">\n",
       "      <th></th>\n",
       "      <th>flight_id</th>\n",
       "      <th>date</th>\n",
       "      <th>callsign</th>\n",
       "      <th>adep</th>\n",
       "      <th>name_adep</th>\n",
       "      <th>country_code_adep</th>\n",
       "      <th>ades</th>\n",
       "      <th>name_ades</th>\n",
       "      <th>country_code_ades</th>\n",
       "      <th>actual_offblock_time</th>\n",
       "      <th>arrival_time</th>\n",
       "      <th>aircraft_type</th>\n",
       "      <th>wtc</th>\n",
       "      <th>airline</th>\n",
       "      <th>flight_duration</th>\n",
       "      <th>taxiout_time</th>\n",
       "      <th>flown_distance</th>\n",
       "      <th>tow</th>\n",
       "    </tr>\n",
       "  </thead>\n",
       "  <tbody>\n",
       "    <tr>\n",
       "      <th>129420</th>\n",
       "      <td>252092482</td>\n",
       "      <td>2022-05-31</td>\n",
       "      <td>0b1ba84ed2349c30be4d70aa493e939c</td>\n",
       "      <td>LFMN</td>\n",
       "      <td>Nice</td>\n",
       "      <td>FR</td>\n",
       "      <td>LTFM</td>\n",
       "      <td>iGA Istanbul</td>\n",
       "      <td>TR</td>\n",
       "      <td>2022-05-31T17:09:00Z</td>\n",
       "      <td>2022-05-31T19:46:00Z</td>\n",
       "      <td>A310</td>\n",
       "      <td>H</td>\n",
       "      <td>6351ec1b849adacc0cbb3b1313d8d39b</td>\n",
       "      <td>148</td>\n",
       "      <td>9</td>\n",
       "      <td>1069</td>\n",
       "      <td>66433.331073</td>\n",
       "    </tr>\n",
       "    <tr>\n",
       "      <th>234408</th>\n",
       "      <td>254902929</td>\n",
       "      <td>2022-08-31</td>\n",
       "      <td>f2f2a7969fbf2de141f4c3c6ea349992</td>\n",
       "      <td>LTFM</td>\n",
       "      <td>iGA Istanbul</td>\n",
       "      <td>TR</td>\n",
       "      <td>LFPG</td>\n",
       "      <td>Paris Charles de Gaulle</td>\n",
       "      <td>FR</td>\n",
       "      <td>2022-08-31T11:42:46Z</td>\n",
       "      <td>2022-08-31T16:30:47Z</td>\n",
       "      <td>A310</td>\n",
       "      <td>H</td>\n",
       "      <td>6351ec1b849adacc0cbb3b1313d8d39b</td>\n",
       "      <td>272</td>\n",
       "      <td>16</td>\n",
       "      <td>1524</td>\n",
       "      <td>83561.000000</td>\n",
       "    </tr>\n",
       "  </tbody>\n",
       "</table>\n",
       "</div>"
      ],
      "text/plain": [
       "        flight_id        date                          callsign  adep  \\\n",
       "129420  252092482  2022-05-31  0b1ba84ed2349c30be4d70aa493e939c  LFMN   \n",
       "234408  254902929  2022-08-31  f2f2a7969fbf2de141f4c3c6ea349992  LTFM   \n",
       "\n",
       "           name_adep country_code_adep  ades                name_ades  \\\n",
       "129420          Nice                FR  LTFM             iGA Istanbul   \n",
       "234408  iGA Istanbul                TR  LFPG  Paris Charles de Gaulle   \n",
       "\n",
       "       country_code_ades  actual_offblock_time          arrival_time  \\\n",
       "129420                TR  2022-05-31T17:09:00Z  2022-05-31T19:46:00Z   \n",
       "234408                FR  2022-08-31T11:42:46Z  2022-08-31T16:30:47Z   \n",
       "\n",
       "       aircraft_type wtc                           airline  flight_duration  \\\n",
       "129420          A310   H  6351ec1b849adacc0cbb3b1313d8d39b              148   \n",
       "234408          A310   H  6351ec1b849adacc0cbb3b1313d8d39b              272   \n",
       "\n",
       "        taxiout_time  flown_distance           tow  \n",
       "129420             9            1069  66433.331073  \n",
       "234408            16            1524  83561.000000  "
      ]
     },
     "execution_count": 14,
     "metadata": {},
     "output_type": "execute_result"
    }
   ],
   "source": [
    "challenge.df[challenge.df[\"aircraft_type\"] == \"A310\"]"
   ]
  },
  {
   "cell_type": "code",
   "execution_count": 18,
   "metadata": {},
   "outputs": [],
   "source": [
    "import pandas as pd\n",
    "df = pd.read_parquet(\"/home/wues_ni/Projects/ATOW-Prediction/notebooks/experimental/training.parquet\")"
   ]
  },
  {
   "cell_type": "code",
   "execution_count": 23,
   "metadata": {},
   "outputs": [
    {
     "data": {
      "text/plain": [
       "<Axes: >"
      ]
     },
     "execution_count": 23,
     "metadata": {},
     "output_type": "execute_result"
    },
    {
     "data": {
      "image/png": "[encoded data removed]",
      "text/plain": [
       "<Figure size 640x480 with 1 Axes>"
      ]
     },
     "metadata": {},
     "output_type": "display_data"
    }
   ],
   "source": [
    "(df[\"tow\"] / df[\"MTOW\"]).hist(bins=100)"
   ]
  },
  {
   "cell_type": "code",
   "execution_count": 32,
   "metadata": {},
   "outputs": [
    {
     "data": {
      "text/plain": [
       "array([249415582, 250020264, 250030428, 250210254, 250242828, 251401350,\n",
       "       252593101, 253086784, 253968219, 254886542, 255009398, 256569887,\n",
       "       257564559, 256267626, 257579742, 249761274, 257123965, 257270731,\n",
       "       254676967, 254925394, 255198787, 254889763, 249223866, 249453575,\n",
       "       249044014, 256253559, 256500632, 257132947, 257644354, 249012236,\n",
       "       249087461, 249359448, 249595670, 250486323, 250470528, 250633561,\n",
       "       250806675, 249900202, 250803601, 250833861, 251215615, 251773655,\n",
       "       251788228, 257606134, 257861616, 249746404, 249810526, 249988920,\n",
       "       256647504, 256756597, 256796886, 257125186, 257251064, 257336505,\n",
       "       257380942, 257494990, 257516707, 248793831, 255578568, 249734617,\n",
       "       249748175, 249900837, 250079825, 253972052, 248981315, 249649454,\n",
       "       256800040, 254286130, 255473710, 256328774, 249685841, 252571156,\n",
       "       252993039, 256374063, 256616550, 256897998, 249730980, 249211733,\n",
       "       249231270, 249614081, 249623674, 249691008, 250539386, 255036300,\n",
       "       255159827, 255171147, 255309972, 255445381, 256355387, 257068568,\n",
       "       257443028, 258018268, 258072494, 256562782, 257294883, 249467026,\n",
       "       256433193, 257067655, 258069856, 250119981])"
      ]
     },
     "execution_count": 32,
     "metadata": {},
     "output_type": "execute_result"
    }
   ],
   "source": [
    "df[(df[\"tow\"] / df[\"MTOW\"]) > 1.03].flight_id.values"
   ]
  },
  {
   "cell_type": "code",
   "execution_count": 33,
   "metadata": {},
   "outputs": [
    {
     "data": {
      "text/html": [
       "<div>\n",
       "<style scoped>\n",
       "    .dataframe tbody tr th:only-of-type {\n",
       "        vertical-align: middle;\n",
       "    }\n",
       "\n",
       "    .dataframe tbody tr th {\n",
       "        vertical-align: top;\n",
       "    }\n",
       "\n",
       "    .dataframe thead th {\n",
       "        text-align: right;\n",
       "    }\n",
       "</style>\n",
       "<table border=\"1\" class=\"dataframe\">\n",
       "  <thead>\n",
       "    <tr style=\"text-align: right;\">\n",
       "      <th></th>\n",
       "      <th>flight_id</th>\n",
       "      <th>date</th>\n",
       "      <th>callsign</th>\n",
       "      <th>adep</th>\n",
       "      <th>name_adep</th>\n",
       "      <th>country_code_adep</th>\n",
       "      <th>ades</th>\n",
       "      <th>name_ades</th>\n",
       "      <th>country_code_ades</th>\n",
       "      <th>actual_offblock_time</th>\n",
       "      <th>...</th>\n",
       "      <th>onblock_time</th>\n",
       "      <th>ramp_to_ramp_hours</th>\n",
       "      <th>takeoff_time</th>\n",
       "      <th>air_time_hours</th>\n",
       "      <th>day</th>\n",
       "      <th>day_of_week</th>\n",
       "      <th>week</th>\n",
       "      <th>quarter</th>\n",
       "      <th>is_week_day</th>\n",
       "      <th>route</th>\n",
       "    </tr>\n",
       "  </thead>\n",
       "  <tbody>\n",
       "    <tr>\n",
       "      <th>116390</th>\n",
       "      <td>255644590</td>\n",
       "      <td>2022-09-25</td>\n",
       "      <td>80da5f43b163c5056927f2c4823af984</td>\n",
       "      <td>LOWW</td>\n",
       "      <td>Vienna</td>\n",
       "      <td>AT</td>\n",
       "      <td>LLBG</td>\n",
       "      <td>Tel Aviv</td>\n",
       "      <td>IL</td>\n",
       "      <td>2022-09-25 18:40:00+00:00</td>\n",
       "      <td>...</td>\n",
       "      <td>2022-09-25 21:50:33+00:00</td>\n",
       "      <td>3.175833</td>\n",
       "      <td>2022-09-25 18:48:00+00:00</td>\n",
       "      <td>2.9425</td>\n",
       "      <td>25</td>\n",
       "      <td>6</td>\n",
       "      <td>38</td>\n",
       "      <td>3</td>\n",
       "      <td>False</td>\n",
       "      <td>LOWW_LLBG</td>\n",
       "    </tr>\n",
       "  </tbody>\n",
       "</table>\n",
       "<p>1 rows × 157 columns</p>\n",
       "</div>"
      ],
      "text/plain": [
       "        flight_id       date                          callsign  adep  \\\n",
       "116390  255644590 2022-09-25  80da5f43b163c5056927f2c4823af984  LOWW   \n",
       "\n",
       "       name_adep country_code_adep  ades name_ades country_code_ades  \\\n",
       "116390    Vienna                AT  LLBG  Tel Aviv                IL   \n",
       "\n",
       "            actual_offblock_time  ...              onblock_time  \\\n",
       "116390 2022-09-25 18:40:00+00:00  ... 2022-09-25 21:50:33+00:00   \n",
       "\n",
       "       ramp_to_ramp_hours              takeoff_time air_time_hours  day  \\\n",
       "116390           3.175833 2022-09-25 18:48:00+00:00         2.9425   25   \n",
       "\n",
       "        day_of_week  week  quarter is_week_day      route  \n",
       "116390            6    38        3       False  LOWW_LLBG  \n",
       "\n",
       "[1 rows x 157 columns]"
      ]
     },
     "execution_count": 33,
     "metadata": {},
     "output_type": "execute_result"
    }
   ],
   "source": [
    "df[df[\"flight_id\"] == 255644590]"
   ]
  },
  {
   "cell_type": "code",
   "execution_count": null,
   "metadata": {},
   "outputs": [],
   "source": []
  }
 ],
 "metadata": {
  "kernelspec": {
   "display_name": "atow",
   "language": "python",
   "name": "python3"
  },
  "language_info": {
   "codemirror_mode": {
    "name": "ipython",
    "version": 3
   },
   "file_extension": ".py",
   "mimetype": "text/x-python",
   "name": "python",
   "nbconvert_exporter": "python",
   "pygments_lexer": "ipython3",
   "version": "3.11.10"
  }
 },
 "nbformat": 4,
 "nbformat_minor": 2
}
