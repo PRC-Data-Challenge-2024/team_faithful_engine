{
 "cells": [
  {
   "cell_type": "code",
   "execution_count": 17,
   "metadata": {},
   "outputs": [],
   "source": [
    "import pandas as pd\n",
    "import numpy as np\n",
    "\n",
    "df = pd.read_parquet(\"/home/niclas/ATOW-Prediction/additional_data/T100_data/t100_segment_data.parquet\")\n",
    "aircraft_types = pd.read_csv(\"/home/niclas/ATOW-Prediction/additional_data/T100_data/L_AIRCRAFT_TYPE.csv\")"
   ]
  },
  {
   "cell_type": "code",
   "execution_count": 18,
   "metadata": {},
   "outputs": [],
   "source": [
    "challenge_data = pd.read_csv(\"data/challenge_set.csv\")"
   ]
  },
  {
   "cell_type": "code",
   "execution_count": 19,
   "metadata": {},
   "outputs": [],
   "source": [
    "aircraft_types.rename(columns={\"Code\": \"AIRCRAFT_TYPE\", \"Description\": \"Aircraft_Name\"}, inplace=True)\n",
    "df = df.merge(aircraft_types)\n"
   ]
  },
  {
   "cell_type": "code",
   "execution_count": 20,
   "metadata": {},
   "outputs": [
    {
     "data": {
      "text/plain": [
       "Index(['DEPARTURES_SCHEDULED', 'DEPARTURES_PERFORMED', 'PAYLOAD', 'SEATS',\n",
       "       'PASSENGERS', 'FREIGHT', 'MAIL', 'DISTANCE', 'RAMP_TO_RAMP', 'AIR_TIME',\n",
       "       'UNIQUE_CARRIER', 'AIRLINE_ID', 'UNIQUE_CARRIER_NAME',\n",
       "       'UNIQUE_CARRIER_ENTITY', 'REGION', 'CARRIER', 'CARRIER_NAME',\n",
       "       'CARRIER_GROUP', 'CARRIER_GROUP_NEW', 'ORIGIN_AIRPORT_ID',\n",
       "       'ORIGIN_AIRPORT_SEQ_ID', 'ORIGIN_CITY_MARKET_ID', 'ORIGIN',\n",
       "       'ORIGIN_CITY_NAME', 'ORIGIN_STATE_ABR', 'ORIGIN_STATE_FIPS',\n",
       "       'ORIGIN_STATE_NM', 'ORIGIN_COUNTRY', 'ORIGIN_COUNTRY_NAME',\n",
       "       'ORIGIN_WAC', 'DEST_AIRPORT_ID', 'DEST_AIRPORT_SEQ_ID',\n",
       "       'DEST_CITY_MARKET_ID', 'DEST', 'DEST_CITY_NAME', 'DEST_STATE_ABR',\n",
       "       'DEST_STATE_FIPS', 'DEST_STATE_NM', 'DEST_COUNTRY', 'DEST_COUNTRY_NAME',\n",
       "       'DEST_WAC', 'AIRCRAFT_GROUP', 'AIRCRAFT_TYPE', 'AIRCRAFT_CONFIG',\n",
       "       'YEAR', 'QUARTER', 'MONTH', 'DISTANCE_GROUP', 'CLASS', 'DATA_SOURCE',\n",
       "       'Aircraft_Name'],\n",
       "      dtype='object')"
      ]
     },
     "execution_count": 20,
     "metadata": {},
     "output_type": "execute_result"
    }
   ],
   "source": [
    "df.columns"
   ]
  },
  {
   "cell_type": "code",
   "execution_count": 21,
   "metadata": {},
   "outputs": [],
   "source": [
    "df[\"LOAD_FACTOR\"] = df[\"PASSENGERS\"] / df[\"SEATS\"]\n",
    "df = df[(df[\"DEPARTURES_PERFORMED\"] > 0) &\n",
    "        (df[\"DEPARTURES_SCHEDULED\"] > 0) &\n",
    "         (df[\"SEATS\"] > 0) &\n",
    "         (df[\"AIRCRAFT_CONFIG\"] == 1) &\n",
    "         (df[\"FREIGHT\"] == 0) &\n",
    "         (df[\"MAIL\"] == 0) &\n",
    "         (df[\"AIR_TIME\"] > 0) &\n",
    "         (df[\"RAMP_TO_RAMP\"] > 0) &\n",
    "         (df[\"DISTANCE\"] > 0) & \n",
    "         (df[\"LOAD_FACTOR\"] <= 1) &\n",
    "         (df[\"LOAD_FACTOR\"] > 0) &\n",
    "         (df[\"DEPARTURES_PERFORMED\"] <= df[\"DEPARTURES_SCHEDULED\"])\n",
    "]"
   ]
  },
  {
   "cell_type": "code",
   "execution_count": 22,
   "metadata": {},
   "outputs": [
    {
     "data": {
      "text/plain": [
       "<Axes: >"
      ]
     },
     "execution_count": 22,
     "metadata": {},
     "output_type": "execute_result"
    },
    {
     "data": {
      "image/png": "[encoded data removed]",
      "text/plain": [
       "<Figure size 640x480 with 1 Axes>"
      ]
     },
     "metadata": {},
     "output_type": "display_data"
    }
   ],
   "source": [
    "df[\"LOAD_FACTOR\"].hist(bins=100)"
   ]
  },
  {
   "cell_type": "code",
   "execution_count": 23,
   "metadata": {},
   "outputs": [
    {
     "data": {
      "text/plain": [
       "array(['A320', 'B772', 'A333', 'B788', 'A21N', 'A20N', 'B738', 'B789',\n",
       "       'A321', 'CRJ9', 'A319', 'B77W', 'BCS3', 'AT76', 'E190', 'B763',\n",
       "       'BCS1', 'E195', 'B38M', 'B739', 'B737', 'A359', 'A332', 'B39M',\n",
       "       'A343', 'A310', 'B752', 'B773', 'C56X', 'E290'], dtype=object)"
      ]
     },
     "execution_count": 23,
     "metadata": {},
     "output_type": "execute_result"
    }
   ],
   "source": [
    "challenge_data[\"aircraft_type\"].unique()"
   ]
  },
  {
   "cell_type": "code",
   "execution_count": 24,
   "metadata": {},
   "outputs": [
    {
     "data": {
      "text/plain": [
       "Aircraft_Name\n",
       "Canadair RJ-200ER /RJ-440                    312614\n",
       "Airbus Industrie A320-100/200                271730\n",
       "Canadair RJ-700                              222169\n",
       "Embraer-145                                  217692\n",
       "Embraer ERJ-175                              212855\n",
       "                                              ...  \n",
       "Beech 65/65A-80/65B-80 (Queen Air)                1\n",
       "Pilatus Britten-Norman BN2A Trislander            1\n",
       "Beech Bonanza 35A/C/D/E/G/H/J/K/S/V/  36A         1\n",
       "Cessna C-310 Series                               1\n",
       "Bombardier BD-100-1A10 Challenger 300             1\n",
       "Name: count, Length: 156, dtype: int64"
      ]
     },
     "execution_count": 24,
     "metadata": {},
     "output_type": "execute_result"
    }
   ],
   "source": [
    "mapping = {\n",
    "    \"A320\": \"Airbus Industrie A320-100/200\",\n",
    "    \"B738\": \"Boeing 737-800\",\n",
    "    \"B739\": \"Boeing 737-900\",\n",
    "    'B772': \"Boeing 777-200ER/200LR/233LR\",\n",
    "    'A333': \"Airbus Industrie A330-300/333\",\n",
    "    'B788': \"B787-800 Dreamliner\",\n",
    "    'A21N': \"Airbus Industrie A321-200n\",\n",
    "    'A20N': \"Airbus Industrie A320-200n\",\n",
    "    'B789': \"B787-900 Dreamliner\",\n",
    "    'A321': \"Airbus Industrie A321/Lr\",\n",
    "    'CRJ9': \"Canadair CRJ 900\",\n",
    "    'A319': \"Airbus Industrie A319\",\n",
    "    'B77W': \"Boeing 777-300/300ER/333ER\",\n",
    "    'BCS3': \"A220-300 BD-500-1A11\",\n",
    "    'AT76': \"Aerospatiale/Aeritalia ATR-72\",\n",
    "    'E190': \"Embraer 190\",\n",
    "    'B763': \"Boeing 767-300/300ER\",\n",
    "    'BCS1': \"A200-100 BD-500-1A10\",\n",
    "    'E195': \"Embraer EMB195\",\n",
    "    'B38M': \"Boeing B737 Max 800\",\n",
    "    'B737': \"Boeing 737-700/700LR/Max 7\",\n",
    "    'A359': \"Airbus Industrie A350-900\",\n",
    "    'A332': \"Airbus Industrie A330-200\",\n",
    "    'B39M': \"Boeing B737 Max 900\",\n",
    "    'A343': \"Airbus Industrie A340-300\",\n",
    "    'A310': \"Airbus Industrie A310-300\",\n",
    "    'B752': \"Boeing 757-200\",\n",
    "    'B773': \"Boeing 777-300/300ER/333ER\",\n",
    "    'C56X': \"Cessna Citation X Model 650/550B/550XL\",\n",
    "    'E290': \"Embraer ERJ-175\",  # Note: This is the closest match, as E290 is not explicitly listed in the provided data\n",
    "}\n",
    "challenge_data[\"aircraft_type\"].unique()\n",
    "df[\"Aircraft_Name\"].value_counts()"
   ]
  },
  {
   "cell_type": "code",
   "execution_count": 25,
   "metadata": {},
   "outputs": [],
   "source": [
    "df = df[df[\"Aircraft_Name\"].isin(mapping.values())]\n",
    "df = df[df[\"YEAR\"].isin([2022, 2023, 2019])]"
   ]
  },
  {
   "cell_type": "code",
   "execution_count": 26,
   "metadata": {},
   "outputs": [],
   "source": [
    "repeated_indices = np.repeat(df.index.values, df['DEPARTURES_PERFORMED'])    \n",
    "# Use the repeated indices to create the new dataframe\n",
    "df = df.loc[repeated_indices].reset_index(drop=True)\n",
    "\n",
    "for col in [\"AIR_TIME\", \"DISTANCE\", \"SEATS\", \"RAMP_TO_RAMP\", \"PAYLOAD\"]:\n",
    "    df[col] = df[col] / df[\"DEPARTURES_PERFORMED\"]"
   ]
  },
  {
   "cell_type": "code",
   "execution_count": 27,
   "metadata": {},
   "outputs": [],
   "source": [
    "feature_cols = [\n",
    "    \"Aircraft_Name\",\n",
    "    \"PAYLOAD\", # target\n",
    "    \"AIR_TIME\",\n",
    "    \"DISTANCE\",\n",
    "    \"SEATS\",\n",
    "    \"LOAD_FACTOR\", # => Can vary later\n",
    "    \"RAMP_TO_RAMP\", #  - 2x taxiout?\n",
    "]\n",
    "\n",
    "df = df[feature_cols]"
   ]
  },
  {
   "cell_type": "code",
   "execution_count": 28,
   "metadata": {},
   "outputs": [],
   "source": [
    "def filter_outliers(df, n=2):\n",
    "    return df[(df - df.mean()).abs() < n * df.std()]\n",
    "\n",
    "filter_cols = [\"PAYLOAD\", \"AIR_TIME\", \"RAMP_TO_RAMP\", \"DISTANCE\", \"SEATS\"]\n",
    "min_max = {}\n",
    "for col in filter_cols:\n",
    "    filtered = filter_outliers(df[col])\n",
    "    min_max[col] = [filtered.min(), filtered.max()]\n",
    "\n",
    "for col, (min, max) in min_max.items():\n",
    "    df = df[(df[col] >= min) & (df[col] <= max)]"
   ]
  },
  {
   "cell_type": "code",
   "execution_count": 29,
   "metadata": {},
   "outputs": [
    {
     "data": {
      "text/plain": [
       "{'PAYLOAD': [5450.0, 55992.22222222222],\n",
       " 'AIR_TIME': [6.0, 239.07407407407408],\n",
       " 'RAMP_TO_RAMP': [19.0, 267.0],\n",
       " 'DISTANCE': [0.3058103975535168, 303.6666666666667],\n",
       " 'SEATS': [44.0, 224.5]}"
      ]
     },
     "execution_count": 29,
     "metadata": {},
     "output_type": "execute_result"
    }
   ],
   "source": [
    "min_max"
   ]
  },
  {
   "cell_type": "code",
   "execution_count": 30,
   "metadata": {},
   "outputs": [
    {
     "data": {
      "text/plain": [
       "<Axes: >"
      ]
     },
     "execution_count": 30,
     "metadata": {},
     "output_type": "execute_result"
    },
    {
     "data": {
      "image/png": "[encoded data removed]",
      "text/plain": [
       "<Figure size 640x480 with 1 Axes>"
      ]
     },
     "metadata": {},
     "output_type": "display_data"
    }
   ],
   "source": [
    "df[\"PAYLOAD\"].hist(bins=100)"
   ]
  },
  {
   "cell_type": "code",
   "execution_count": 31,
   "metadata": {},
   "outputs": [],
   "source": [
    "df.to_parquet(\"additional_data/T100_data/dataset.parquet\")"
   ]
  },
  {
   "cell_type": "code",
   "execution_count": 32,
   "metadata": {},
   "outputs": [
    {
     "data": {
      "text/html": [
       "<div>\n",
       "<style scoped>\n",
       "    .dataframe tbody tr th:only-of-type {\n",
       "        vertical-align: middle;\n",
       "    }\n",
       "\n",
       "    .dataframe tbody tr th {\n",
       "        vertical-align: top;\n",
       "    }\n",
       "\n",
       "    .dataframe thead th {\n",
       "        text-align: right;\n",
       "    }\n",
       "</style>\n",
       "<table border=\"1\" class=\"dataframe\">\n",
       "  <thead>\n",
       "    <tr style=\"text-align: right;\">\n",
       "      <th></th>\n",
       "      <th>Aircraft_Name</th>\n",
       "      <th>PAYLOAD</th>\n",
       "      <th>AIR_TIME</th>\n",
       "      <th>DISTANCE</th>\n",
       "      <th>SEATS</th>\n",
       "      <th>LOAD_FACTOR</th>\n",
       "      <th>RAMP_TO_RAMP</th>\n",
       "    </tr>\n",
       "  </thead>\n",
       "  <tbody>\n",
       "    <tr>\n",
       "      <th>0</th>\n",
       "      <td>Aerospatiale/Aeritalia ATR-72</td>\n",
       "      <td>16645.0</td>\n",
       "      <td>45.0</td>\n",
       "      <td>145.0</td>\n",
       "      <td>70.0</td>\n",
       "      <td>0.257143</td>\n",
       "      <td>70.0</td>\n",
       "    </tr>\n",
       "    <tr>\n",
       "      <th>1</th>\n",
       "      <td>Aerospatiale/Aeritalia ATR-72</td>\n",
       "      <td>16645.0</td>\n",
       "      <td>37.0</td>\n",
       "      <td>145.0</td>\n",
       "      <td>70.0</td>\n",
       "      <td>0.485714</td>\n",
       "      <td>56.0</td>\n",
       "    </tr>\n",
       "    <tr>\n",
       "      <th>2</th>\n",
       "      <td>Aerospatiale/Aeritalia ATR-72</td>\n",
       "      <td>16645.0</td>\n",
       "      <td>54.0</td>\n",
       "      <td>197.0</td>\n",
       "      <td>70.0</td>\n",
       "      <td>0.742857</td>\n",
       "      <td>77.0</td>\n",
       "    </tr>\n",
       "    <tr>\n",
       "      <th>3</th>\n",
       "      <td>Aerospatiale/Aeritalia ATR-72</td>\n",
       "      <td>16645.0</td>\n",
       "      <td>47.0</td>\n",
       "      <td>193.0</td>\n",
       "      <td>70.0</td>\n",
       "      <td>0.757143</td>\n",
       "      <td>65.0</td>\n",
       "    </tr>\n",
       "    <tr>\n",
       "      <th>4</th>\n",
       "      <td>Aerospatiale/Aeritalia ATR-72</td>\n",
       "      <td>16645.0</td>\n",
       "      <td>48.0</td>\n",
       "      <td>193.0</td>\n",
       "      <td>70.0</td>\n",
       "      <td>0.871429</td>\n",
       "      <td>66.0</td>\n",
       "    </tr>\n",
       "  </tbody>\n",
       "</table>\n",
       "</div>"
      ],
      "text/plain": [
       "                   Aircraft_Name  PAYLOAD  AIR_TIME  DISTANCE  SEATS  \\\n",
       "0  Aerospatiale/Aeritalia ATR-72  16645.0      45.0     145.0   70.0   \n",
       "1  Aerospatiale/Aeritalia ATR-72  16645.0      37.0     145.0   70.0   \n",
       "2  Aerospatiale/Aeritalia ATR-72  16645.0      54.0     197.0   70.0   \n",
       "3  Aerospatiale/Aeritalia ATR-72  16645.0      47.0     193.0   70.0   \n",
       "4  Aerospatiale/Aeritalia ATR-72  16645.0      48.0     193.0   70.0   \n",
       "\n",
       "   LOAD_FACTOR  RAMP_TO_RAMP  \n",
       "0     0.257143          70.0  \n",
       "1     0.485714          56.0  \n",
       "2     0.742857          77.0  \n",
       "3     0.757143          65.0  \n",
       "4     0.871429          66.0  "
      ]
     },
     "execution_count": 32,
     "metadata": {},
     "output_type": "execute_result"
    }
   ],
   "source": [
    "df.head()\n"
   ]
  },
  {
   "cell_type": "code",
   "execution_count": null,
   "metadata": {},
   "outputs": [],
   "source": []
  }
 ],
 "metadata": {
  "kernelspec": {
   "display_name": "atow",
   "language": "python",
   "name": "python3"
  },
  "language_info": {
   "codemirror_mode": {
    "name": "ipython",
    "version": 3
   },
   "file_extension": ".py",
   "mimetype": "text/x-python",
   "name": "python",
   "nbconvert_exporter": "python",
   "pygments_lexer": "ipython3",
   "version": "3.11.9"
  }
 },
 "nbformat": 4,
 "nbformat_minor": 2
}
