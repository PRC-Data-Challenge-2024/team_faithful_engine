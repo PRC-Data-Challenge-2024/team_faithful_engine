{
 "cells": [
  {
   "cell_type": "code",
   "execution_count": 21,
   "metadata": {},
   "outputs": [],
   "source": [
    "import pandas as pd\n",
    "import numpy as np\n",
    "\n",
    "df = pd.read_parquet(\"/home/niclas/ATOW-Prediction/additional_data/T100_data/t100_segment_data.parquet\")\n",
    "aircraft_types = pd.read_csv(\"/home/niclas/ATOW-Prediction/additional_data/T100_data/L_AIRCRAFT_TYPE.csv\")"
   ]
  },
  {
   "cell_type": "code",
   "execution_count": 22,
   "metadata": {},
   "outputs": [],
   "source": [
    "challenge_data = pd.read_csv(\"data/challenge_set.csv\")"
   ]
  },
  {
   "cell_type": "code",
   "execution_count": 23,
   "metadata": {},
   "outputs": [],
   "source": [
    "aircraft_types.rename(columns={\"Code\": \"AIRCRAFT_TYPE\", \"Description\": \"Aircraft_Name\"}, inplace=True)\n",
    "df = df.merge(aircraft_types)\n"
   ]
  },
  {
   "cell_type": "code",
   "execution_count": 24,
   "metadata": {},
   "outputs": [
    {
     "data": {
      "text/plain": [
       "Index(['DEPARTURES_SCHEDULED', 'DEPARTURES_PERFORMED', 'PAYLOAD', 'SEATS',\n",
       "       'PASSENGERS', 'FREIGHT', 'MAIL', 'DISTANCE', 'RAMP_TO_RAMP', 'AIR_TIME',\n",
       "       'UNIQUE_CARRIER', 'AIRLINE_ID', 'UNIQUE_CARRIER_NAME',\n",
       "       'UNIQUE_CARRIER_ENTITY', 'REGION', 'CARRIER', 'CARRIER_NAME',\n",
       "       'CARRIER_GROUP', 'CARRIER_GROUP_NEW', 'ORIGIN_AIRPORT_ID',\n",
       "       'ORIGIN_AIRPORT_SEQ_ID', 'ORIGIN_CITY_MARKET_ID', 'ORIGIN',\n",
       "       'ORIGIN_CITY_NAME', 'ORIGIN_STATE_ABR', 'ORIGIN_STATE_FIPS',\n",
       "       'ORIGIN_STATE_NM', 'ORIGIN_COUNTRY', 'ORIGIN_COUNTRY_NAME',\n",
       "       'ORIGIN_WAC', 'DEST_AIRPORT_ID', 'DEST_AIRPORT_SEQ_ID',\n",
       "       'DEST_CITY_MARKET_ID', 'DEST', 'DEST_CITY_NAME', 'DEST_STATE_ABR',\n",
       "       'DEST_STATE_FIPS', 'DEST_STATE_NM', 'DEST_COUNTRY', 'DEST_COUNTRY_NAME',\n",
       "       'DEST_WAC', 'AIRCRAFT_GROUP', 'AIRCRAFT_TYPE', 'AIRCRAFT_CONFIG',\n",
       "       'YEAR', 'QUARTER', 'MONTH', 'DISTANCE_GROUP', 'CLASS', 'DATA_SOURCE',\n",
       "       'Aircraft_Name'],\n",
       "      dtype='object')"
      ]
     },
     "execution_count": 24,
     "metadata": {},
     "output_type": "execute_result"
    }
   ],
   "source": [
    "df.columns"
   ]
  },
  {
   "cell_type": "code",
   "execution_count": 25,
   "metadata": {},
   "outputs": [],
   "source": [
    "df[\"LOAD_FACTOR\"] = df[\"PASSENGERS\"] / df[\"SEATS\"]\n",
    "df = df[(df[\"DEPARTURES_PERFORMED\"] > 0) &\n",
    "        (df[\"DEPARTURES_SCHEDULED\"] > 0) &\n",
    "         (df[\"SEATS\"] > 0) &\n",
    "         (df[\"AIRCRAFT_CONFIG\"] == 1) &\n",
    "         (df[\"FREIGHT\"] == 0) &\n",
    "         (df[\"MAIL\"] == 0) &\n",
    "         (df[\"AIR_TIME\"] > 0) &\n",
    "         (df[\"RAMP_TO_RAMP\"] > 0) &\n",
    "         (df[\"DISTANCE\"] > 0) & \n",
    "         (df[\"LOAD_FACTOR\"] <= 1) &\n",
    "         (df[\"LOAD_FACTOR\"] > 0) &\n",
    "         (df[\"DEPARTURES_PERFORMED\"] <= df[\"DEPARTURES_SCHEDULED\"])\n",
    "]"
   ]
  },
  {
   "cell_type": "code",
   "execution_count": 26,
   "metadata": {},
   "outputs": [
    {
     "data": {
      "text/plain": [
       "<Axes: >"
      ]
     },
     "execution_count": 26,
     "metadata": {},
     "output_type": "execute_result"
    },
    {
     "data": {
      "image/png": "[encoded data removed]",
      "text/plain": [
       "<Figure size 640x480 with 1 Axes>"
      ]
     },
     "metadata": {},
     "output_type": "display_data"
    }
   ],
   "source": [
    "df[\"LOAD_FACTOR\"].hist(bins=100)"
   ]
  },
  {
   "cell_type": "code",
   "execution_count": 27,
   "metadata": {},
   "outputs": [
    {
     "data": {
      "text/plain": [
       "array(['A320', 'B772', 'A333', 'B788', 'A21N', 'A20N', 'B738', 'B789',\n",
       "       'A321', 'CRJ9', 'A319', 'B77W', 'BCS3', 'AT76', 'E190', 'B763',\n",
       "       'BCS1', 'E195', 'B38M', 'B739', 'B737', 'A359', 'A332', 'B39M',\n",
       "       'A343', 'A310', 'B752', 'B773', 'C56X', 'E290'], dtype=object)"
      ]
     },
     "execution_count": 27,
     "metadata": {},
     "output_type": "execute_result"
    }
   ],
   "source": [
    "challenge_data[\"aircraft_type\"].unique()"
   ]
  },
  {
   "cell_type": "code",
   "execution_count": 28,
   "metadata": {},
   "outputs": [
    {
     "data": {
      "text/plain": [
       "Aircraft_Name\n",
       "Canadair RJ-200ER /RJ-440                    312614\n",
       "Airbus Industrie A320-100/200                271730\n",
       "Canadair RJ-700                              222169\n",
       "Embraer-145                                  217692\n",
       "Embraer ERJ-175                              212855\n",
       "                                              ...  \n",
       "Beech 65/65A-80/65B-80 (Queen Air)                1\n",
       "Pilatus Britten-Norman BN2A Trislander            1\n",
       "Beech Bonanza 35A/C/D/E/G/H/J/K/S/V/  36A         1\n",
       "Cessna C-310 Series                               1\n",
       "Bombardier BD-100-1A10 Challenger 300             1\n",
       "Name: count, Length: 156, dtype: int64"
      ]
     },
     "execution_count": 28,
     "metadata": {},
     "output_type": "execute_result"
    }
   ],
   "source": [
    "mapping = {\n",
    "    \"A320\": \"Airbus Industrie A320-100/200\",\n",
    "    \"B738\": \"Boeing 737-800\",\n",
    "    \"B739\": \"Boeing 737-900\",\n",
    "    'B772': \"Boeing 777-200ER/200LR/233LR\",\n",
    "    'A333': \"Airbus Industrie A330-300/333\",\n",
    "    'B788': \"B787-800 Dreamliner\",\n",
    "    'A21N': \"Airbus Industrie A321-200n\",\n",
    "    'A20N': \"Airbus Industrie A320-200n\",\n",
    "    'B789': \"B787-900 Dreamliner\",\n",
    "    'A321': \"Airbus Industrie A321/Lr\",\n",
    "    'CRJ9': \"Canadair CRJ 900\",\n",
    "    'A319': \"Airbus Industrie A319\",\n",
    "    'B77W': \"Boeing 777-300/300ER/333ER\",\n",
    "    'BCS3': \"A220-300 BD-500-1A11\",\n",
    "    'AT76': \"Aerospatiale/Aeritalia ATR-72\",\n",
    "    'E190': \"Embraer 190\",\n",
    "    'B763': \"Boeing 767-300/300ER\",\n",
    "    'BCS1': \"A200-100 BD-500-1A10\",\n",
    "    'E195': \"Embraer EMB195\",\n",
    "    'B38M': \"Boeing B737 Max 800\",\n",
    "    'B737': \"Boeing 737-700/700LR/Max 7\",\n",
    "    'A359': \"Airbus Industrie A350-900\",\n",
    "    'A332': \"Airbus Industrie A330-200\",\n",
    "    'B39M': \"Boeing B737 Max 900\",\n",
    "    'A343': \"Airbus Industrie A340-300\",\n",
    "    'A310': \"Airbus Industrie A310-300\",\n",
    "    'B752': \"Boeing 757-200\",\n",
    "    'B773': \"Boeing 777-300/300ER/333ER\",\n",
    "    'C56X': \"Cessna Citation X Model 650/550B/550XL\",\n",
    "    'E290': \"Embraer ERJ-175\",  # Note: This is the closest match, as E290 is not explicitly listed in the provided data\n",
    "}\n",
    "challenge_data[\"aircraft_type\"].unique()\n",
    "df[\"Aircraft_Name\"].value_counts()"
   ]
  },
  {
   "cell_type": "code",
   "execution_count": 29,
   "metadata": {},
   "outputs": [],
   "source": [
    "df = df[df[\"Aircraft_Name\"].isin(mapping.values())]\n",
    "df = df[df[\"YEAR\"].isin([2022, 2023, 2019, 2018])]"
   ]
  },
  {
   "cell_type": "code",
   "execution_count": 30,
   "metadata": {},
   "outputs": [],
   "source": [
    "repeated_indices = np.repeat(df.index.values, df['DEPARTURES_PERFORMED'])    \n",
    "# Use the repeated indices to create the new dataframe\n",
    "df = df.loc[repeated_indices].reset_index(drop=True)\n",
    "\n",
    "for col in [\"AIR_TIME\", \"DISTANCE\", \"SEATS\", \"RAMP_TO_RAMP\", \"PAYLOAD\"]:\n",
    "    df[col] = df[col] / df[\"DEPARTURES_PERFORMED\"]"
   ]
  },
  {
   "cell_type": "code",
   "execution_count": 31,
   "metadata": {},
   "outputs": [],
   "source": [
    "feature_cols = [\n",
    "    \"Aircraft_Name\",\n",
    "    \"PAYLOAD\", # target\n",
    "    \"AIR_TIME\",\n",
    "    \"DISTANCE\",\n",
    "    \"SEATS\",\n",
    "    \"MONTH\",\n",
    "    \"LOAD_FACTOR\", # => Can vary later\n",
    "    \"RAMP_TO_RAMP\", #  - 2x taxiout?\n",
    "]\n",
    "\n",
    "df = df[feature_cols]"
   ]
  },
  {
   "cell_type": "code",
   "execution_count": 32,
   "metadata": {},
   "outputs": [],
   "source": [
    "def filter_outliers(df, n=2):\n",
    "    return df[(df - df.mean()).abs() < n * df.std()]\n",
    "\n",
    "filter_cols = [\"PAYLOAD\", \"AIR_TIME\", \"RAMP_TO_RAMP\", \"DISTANCE\", \"SEATS\"]\n",
    "min_max = {}\n",
    "for col in filter_cols:\n",
    "    filtered = filter_outliers(df[col])\n",
    "    min_max[col] = [filtered.min(), filtered.max()]\n",
    "\n",
    "for col, (min, max) in min_max.items():\n",
    "    df = df[(df[col] >= min) & (df[col] <= max)]"
   ]
  },
  {
   "cell_type": "code",
   "execution_count": 33,
   "metadata": {},
   "outputs": [
    {
     "data": {
      "text/plain": [
       "{'PAYLOAD': [5450.0, 53160.0],\n",
       " 'AIR_TIME': [6.0, 240.80645161290323],\n",
       " 'RAMP_TO_RAMP': [19.0, 268.6923076923077],\n",
       " 'DISTANCE': [0.3058103975535168, 296.8181818181818],\n",
       " 'SEATS': [38.0, 222.0]}"
      ]
     },
     "execution_count": 33,
     "metadata": {},
     "output_type": "execute_result"
    }
   ],
   "source": [
    "min_max"
   ]
  },
  {
   "cell_type": "code",
   "execution_count": 34,
   "metadata": {},
   "outputs": [
    {
     "data": {
      "text/plain": [
       "<Axes: >"
      ]
     },
     "execution_count": 34,
     "metadata": {},
     "output_type": "execute_result"
    },
    {
     "data": {
      "image/png": "[encoded data removed]",
      "text/plain": [
       "<Figure size 640x480 with 1 Axes>"
      ]
     },
     "metadata": {},
     "output_type": "display_data"
    }
   ],
   "source": [
    "df[\"PAYLOAD\"].hist(bins=100)"
   ]
  },
  {
   "cell_type": "code",
   "execution_count": 35,
   "metadata": {},
   "outputs": [
    {
     "data": {
      "text/html": [
       "<div>\n",
       "<style scoped>\n",
       "    .dataframe tbody tr th:only-of-type {\n",
       "        vertical-align: middle;\n",
       "    }\n",
       "\n",
       "    .dataframe tbody tr th {\n",
       "        vertical-align: top;\n",
       "    }\n",
       "\n",
       "    .dataframe thead th {\n",
       "        text-align: right;\n",
       "    }\n",
       "</style>\n",
       "<table border=\"1\" class=\"dataframe\">\n",
       "  <thead>\n",
       "    <tr style=\"text-align: right;\">\n",
       "      <th></th>\n",
       "      <th>PAYLOAD</th>\n",
       "      <th>AIR_TIME</th>\n",
       "      <th>DISTANCE</th>\n",
       "      <th>SEATS</th>\n",
       "      <th>MONTH</th>\n",
       "      <th>LOAD_FACTOR</th>\n",
       "      <th>RAMP_TO_RAMP</th>\n",
       "      <th>aircraft_type</th>\n",
       "    </tr>\n",
       "  </thead>\n",
       "  <tbody>\n",
       "    <tr>\n",
       "      <th>4</th>\n",
       "      <td>14000.0</td>\n",
       "      <td>29.000000</td>\n",
       "      <td>96.000000</td>\n",
       "      <td>70.0</td>\n",
       "      <td>10</td>\n",
       "      <td>0.900000</td>\n",
       "      <td>61.000000</td>\n",
       "      <td>E290</td>\n",
       "    </tr>\n",
       "    <tr>\n",
       "      <th>10</th>\n",
       "      <td>15200.0</td>\n",
       "      <td>9.000000</td>\n",
       "      <td>30.000000</td>\n",
       "      <td>76.0</td>\n",
       "      <td>10</td>\n",
       "      <td>0.157895</td>\n",
       "      <td>53.000000</td>\n",
       "      <td>E290</td>\n",
       "    </tr>\n",
       "    <tr>\n",
       "      <th>11</th>\n",
       "      <td>15200.0</td>\n",
       "      <td>31.000000</td>\n",
       "      <td>150.000000</td>\n",
       "      <td>76.0</td>\n",
       "      <td>10</td>\n",
       "      <td>0.223684</td>\n",
       "      <td>59.000000</td>\n",
       "      <td>CRJ9</td>\n",
       "    </tr>\n",
       "    <tr>\n",
       "      <th>12</th>\n",
       "      <td>15200.0</td>\n",
       "      <td>22.000000</td>\n",
       "      <td>65.000000</td>\n",
       "      <td>76.0</td>\n",
       "      <td>10</td>\n",
       "      <td>0.236842</td>\n",
       "      <td>36.000000</td>\n",
       "      <td>CRJ9</td>\n",
       "    </tr>\n",
       "    <tr>\n",
       "      <th>15</th>\n",
       "      <td>15200.0</td>\n",
       "      <td>35.000000</td>\n",
       "      <td>196.000000</td>\n",
       "      <td>76.0</td>\n",
       "      <td>10</td>\n",
       "      <td>0.342105</td>\n",
       "      <td>67.000000</td>\n",
       "      <td>E290</td>\n",
       "    </tr>\n",
       "    <tr>\n",
       "      <th>...</th>\n",
       "      <td>...</td>\n",
       "      <td>...</td>\n",
       "      <td>...</td>\n",
       "      <td>...</td>\n",
       "      <td>...</td>\n",
       "      <td>...</td>\n",
       "      <td>...</td>\n",
       "      <td>...</td>\n",
       "    </tr>\n",
       "    <tr>\n",
       "      <th>9153209</th>\n",
       "      <td>25000.0</td>\n",
       "      <td>77.546835</td>\n",
       "      <td>1.010127</td>\n",
       "      <td>100.0</td>\n",
       "      <td>2</td>\n",
       "      <td>0.502127</td>\n",
       "      <td>103.729114</td>\n",
       "      <td>E190</td>\n",
       "    </tr>\n",
       "    <tr>\n",
       "      <th>9153210</th>\n",
       "      <td>25000.0</td>\n",
       "      <td>77.546835</td>\n",
       "      <td>1.010127</td>\n",
       "      <td>100.0</td>\n",
       "      <td>2</td>\n",
       "      <td>0.502127</td>\n",
       "      <td>103.729114</td>\n",
       "      <td>E190</td>\n",
       "    </tr>\n",
       "    <tr>\n",
       "      <th>9153211</th>\n",
       "      <td>25000.0</td>\n",
       "      <td>77.546835</td>\n",
       "      <td>1.010127</td>\n",
       "      <td>100.0</td>\n",
       "      <td>2</td>\n",
       "      <td>0.502127</td>\n",
       "      <td>103.729114</td>\n",
       "      <td>E190</td>\n",
       "    </tr>\n",
       "    <tr>\n",
       "      <th>9153212</th>\n",
       "      <td>25000.0</td>\n",
       "      <td>77.546835</td>\n",
       "      <td>1.010127</td>\n",
       "      <td>100.0</td>\n",
       "      <td>2</td>\n",
       "      <td>0.502127</td>\n",
       "      <td>103.729114</td>\n",
       "      <td>E190</td>\n",
       "    </tr>\n",
       "    <tr>\n",
       "      <th>9153213</th>\n",
       "      <td>25000.0</td>\n",
       "      <td>77.546835</td>\n",
       "      <td>1.010127</td>\n",
       "      <td>100.0</td>\n",
       "      <td>2</td>\n",
       "      <td>0.502127</td>\n",
       "      <td>103.729114</td>\n",
       "      <td>E190</td>\n",
       "    </tr>\n",
       "  </tbody>\n",
       "</table>\n",
       "<p>8149500 rows × 8 columns</p>\n",
       "</div>"
      ],
      "text/plain": [
       "         PAYLOAD   AIR_TIME    DISTANCE  SEATS  MONTH  LOAD_FACTOR  \\\n",
       "4        14000.0  29.000000   96.000000   70.0     10     0.900000   \n",
       "10       15200.0   9.000000   30.000000   76.0     10     0.157895   \n",
       "11       15200.0  31.000000  150.000000   76.0     10     0.223684   \n",
       "12       15200.0  22.000000   65.000000   76.0     10     0.236842   \n",
       "15       15200.0  35.000000  196.000000   76.0     10     0.342105   \n",
       "...          ...        ...         ...    ...    ...          ...   \n",
       "9153209  25000.0  77.546835    1.010127  100.0      2     0.502127   \n",
       "9153210  25000.0  77.546835    1.010127  100.0      2     0.502127   \n",
       "9153211  25000.0  77.546835    1.010127  100.0      2     0.502127   \n",
       "9153212  25000.0  77.546835    1.010127  100.0      2     0.502127   \n",
       "9153213  25000.0  77.546835    1.010127  100.0      2     0.502127   \n",
       "\n",
       "         RAMP_TO_RAMP aircraft_type  \n",
       "4           61.000000          E290  \n",
       "10          53.000000          E290  \n",
       "11          59.000000          CRJ9  \n",
       "12          36.000000          CRJ9  \n",
       "15          67.000000          E290  \n",
       "...               ...           ...  \n",
       "9153209    103.729114          E190  \n",
       "9153210    103.729114          E190  \n",
       "9153211    103.729114          E190  \n",
       "9153212    103.729114          E190  \n",
       "9153213    103.729114          E190  \n",
       "\n",
       "[8149500 rows x 8 columns]"
      ]
     },
     "execution_count": 35,
     "metadata": {},
     "output_type": "execute_result"
    }
   ],
   "source": [
    "df[\"aircraft_type\"] = df[\"Aircraft_Name\"].map({v:k for k,v in mapping.items()})\n",
    "df.drop(columns=[\"Aircraft_Name\"], inplace=True)\n",
    "df"
   ]
  },
  {
   "cell_type": "code",
   "execution_count": 36,
   "metadata": {},
   "outputs": [],
   "source": [
    "df.to_parquet(\"additional_data/T100_data/dataset.parquet\")"
   ]
  },
  {
   "cell_type": "code",
   "execution_count": null,
   "metadata": {},
   "outputs": [],
   "source": []
  }
 ],
 "metadata": {
  "kernelspec": {
   "display_name": "atow",
   "language": "python",
   "name": "python3"
  },
  "language_info": {
   "codemirror_mode": {
    "name": "ipython",
    "version": 3
   },
   "file_extension": ".py",
   "mimetype": "text/x-python",
   "name": "python",
   "nbconvert_exporter": "python",
   "pygments_lexer": "ipython3",
   "version": "3.11.9"
  }
 },
 "nbformat": 4,
 "nbformat_minor": 2
}
